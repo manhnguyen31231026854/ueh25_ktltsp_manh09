{
  "nbformat": 4,
  "nbformat_minor": 0,
  "metadata": {
    "colab": {
      "provenance": [],
      "authorship_tag": "ABX9TyPFHeiSqlDuCQEhtbnmatqh",
      "include_colab_link": true
    },
    "kernelspec": {
      "name": "python3",
      "display_name": "Python 3"
    },
    "language_info": {
      "name": "python"
    }
  },
  "cells": [
    {
      "cell_type": "markdown",
      "metadata": {
        "id": "view-in-github",
        "colab_type": "text"
      },
      "source": [
        "<a href=\"https://colab.research.google.com/github/manhnguyen31231026854/ueh25_ktltsp_manh09/blob/main/19_08.ipynb\" target=\"_parent\"><img src=\"https://colab.research.google.com/assets/colab-badge.svg\" alt=\"Open In Colab\"/></a>"
      ]
    },
    {
      "cell_type": "markdown",
      "source": [
        "# 19/8"
      ],
      "metadata": {
        "id": "HeHa23MJyeT0"
      }
    },
    {
      "cell_type": "markdown",
      "source": [
        "# Bài thực hành\n"
      ],
      "metadata": {
        "id": "XWDP1JcdyeOT"
      }
    },
    {
      "cell_type": "markdown",
      "source": [
        "Bài 1"
      ],
      "metadata": {
        "id": "g_UdDVWNyo4J"
      }
    },
    {
      "cell_type": "code",
      "execution_count": null,
      "metadata": {
        "colab": {
          "base_uri": "https://localhost:8080/"
        },
        "id": "fN4jVYRAyZGS",
        "outputId": "39168df1-b37c-494d-88c6-6ce0827996aa"
      },
      "outputs": [
        {
          "output_type": "stream",
          "name": "stdout",
          "text": [
            "**********************************\n",
            "* Truong: Dai Hoc UEH            *\n",
            "* Khoa: CNTT                     *\n",
            "* Ho ten:                        *\n",
            "**********************************\n"
          ]
        }
      ],
      "source": [
        "width = 34\n",
        "print(\"*\" * width)\n",
        "print(\"* %-30s *\" % \"Truong: Dai Hoc UEH\")\n",
        "print(\"* %-30s *\" % \"Khoa: CNTT\")\n",
        "print(\"* %-30s *\" % \"Ho ten:\")\n",
        "print(\"*\" * width)"
      ]
    },
    {
      "cell_type": "markdown",
      "source": [
        "Bài 2"
      ],
      "metadata": {
        "id": "JxsjrJ4Py4V_"
      }
    },
    {
      "cell_type": "code",
      "source": [
        "import math\n",
        "\n",
        "# Input: Radius of the circle\n",
        "R = float(input(\"Nhập bán kính R: \"))\n",
        "\n",
        "# Calculating the area and circumference\n",
        "area = 3.14 * R ** 2\n",
        "circumference = 2 * 3.14 * R\n",
        "\n",
        "# Output: Display the results with one decimal place\n",
        "print(f\"Dien tich S = {area:.1f}\")\n",
        "print(f\"Chu vi P = {circumference:.1f}\")\n"
      ],
      "metadata": {
        "colab": {
          "base_uri": "https://localhost:8080/"
        },
        "id": "DMHW-bYty5z9",
        "outputId": "c6195b67-afec-4ecf-a0bf-71532212223e"
      },
      "execution_count": null,
      "outputs": [
        {
          "output_type": "stream",
          "name": "stdout",
          "text": [
            "Nhập bán kính R: 5\n",
            "Dien tich S = 78.5\n",
            "Chu vi P = 31.4\n"
          ]
        }
      ]
    },
    {
      "cell_type": "markdown",
      "source": [
        "Bài 3"
      ],
      "metadata": {
        "id": "dsIwM4r1z_1g"
      }
    },
    {
      "cell_type": "code",
      "source": [
        "# Input: Hours, minutes, and seconds\n",
        "hours = int(input(\"Nhập số giờ: \"))\n",
        "minutes = int(input(\"Nhập số phút: \"))\n",
        "seconds = int(input(\"Nhập số giây: \"))\n",
        "\n",
        "# Calculating the total number of seconds\n",
        "total_seconds = (hours * 3600) + (minutes * 60) + seconds\n",
        "\n",
        "# Output: Display the total seconds\n",
        "print(f\"Tổng số giây của {hours}:{minutes}:{seconds} là {total_seconds} giây\")1\n"
      ],
      "metadata": {
        "colab": {
          "base_uri": "https://localhost:8080/"
        },
        "id": "c4baA-Tn0AOE",
        "outputId": "aa81f765-08dd-4d93-dcb0-7c9cc7e14630"
      },
      "execution_count": null,
      "outputs": [
        {
          "output_type": "stream",
          "name": "stdout",
          "text": [
            "Nhập số giờ: 1\n",
            "Nhập số phút: 20\n",
            "Nhập số giây: 10\n",
            "Tổng số giây của 1:20:10 là 4810 giây\n"
          ]
        }
      ]
    },
    {
      "cell_type": "markdown",
      "source": [
        "bài 4"
      ],
      "metadata": {
        "id": "TcIZxM5f2vrf"
      }
    },
    {
      "cell_type": "code",
      "source": [
        "# Input: Total seconds\n",
        "total_seconds = int(input(\"Nhập vào tổng số giây: \"))\n",
        "\n",
        "# Converting seconds to hours, minutes, and remaining seconds\n",
        "hours = total_seconds // 3600\n",
        "minutes = (total_seconds % 3600) // 60\n",
        "seconds = total_seconds % 60\n",
        "\n",
        "# Output\n",
        "print(f\"{total_seconds} giây có dạng {hours}:{minutes}:{seconds}\")\n"
      ],
      "metadata": {
        "colab": {
          "base_uri": "https://localhost:8080/"
        },
        "id": "UyU_NjFO2xFw",
        "outputId": "3c6b0482-3909-4ca9-f5c9-855043cd02b5"
      },
      "execution_count": null,
      "outputs": [
        {
          "output_type": "stream",
          "name": "stdout",
          "text": [
            "Nhập vào tổng số giây: 4810\n",
            "4810 giây có dạng 1:20:10\n"
          ]
        }
      ]
    },
    {
      "cell_type": "markdown",
      "source": [
        "Bài 5"
      ],
      "metadata": {
        "id": "u3Wprxm0278G"
      }
    },
    {
      "cell_type": "code",
      "source": [
        "import math\n",
        "\n",
        "# Input: sides a, b, c\n",
        "a = float(input(\"Nhập độ dài cạnh a: \"))\n",
        "b = float(input(\"Nhập độ dài cạnh b: \"))\n",
        "c = float(input(\"Nhập độ dài cạnh c: \"))\n",
        "\n",
        "# Calculating the semi-perimeter (p)\n",
        "p = (a + b + c) / 2\n",
        "\n",
        "# Using Heron's formula to calculate area\n",
        "area = math.sqrt(p * (p - a) * (p - b) * (p - c))\n",
        "\n",
        "# Output: Display the area\n",
        "print(f\"Dien tich tam giac S = {area:.2f}\")\n"
      ],
      "metadata": {
        "colab": {
          "base_uri": "https://localhost:8080/"
        },
        "id": "_vPnCrP92-EO",
        "outputId": "63a051a3-7b05-485b-fe01-c81ed6847cdb"
      },
      "execution_count": null,
      "outputs": [
        {
          "output_type": "stream",
          "name": "stdout",
          "text": [
            "Nhập độ dài cạnh a: 2\n",
            "Nhập độ dài cạnh b: 4\n",
            "Nhập độ dài cạnh c: 3\n",
            "Dien tich tam giac S = 2.90\n"
          ]
        }
      ]
    },
    {
      "cell_type": "markdown",
      "source": [
        "bài 6"
      ],
      "metadata": {
        "id": "KrIEOYzP3GLP"
      }
    },
    {
      "cell_type": "code",
      "source": [
        "# Input: a and n\n",
        "a = float(input(\"Nhập số thực a: \"))\n",
        "n = int(input(\"Nhập số mũ n: \"))\n",
        "\n",
        "# Calculating the power\n",
        "result = a ** n\n",
        "\n",
        "# Output\n",
        "print(f\"Ket qua {a}^{n} = {result}\")\n"
      ],
      "metadata": {
        "colab": {
          "base_uri": "https://localhost:8080/"
        },
        "id": "w4wGPd7q3HGe",
        "outputId": "4e6858e4-c55e-4ae2-8708-5217d01ed792"
      },
      "execution_count": null,
      "outputs": [
        {
          "output_type": "stream",
          "name": "stdout",
          "text": [
            "Nhập số thực a: 2\n",
            "Nhập số mũ n: 4\n",
            "Ket qua 2.0^4 = 16.0\n"
          ]
        }
      ]
    },
    {
      "cell_type": "markdown",
      "source": [
        "bài 7"
      ],
      "metadata": {
        "id": "xMNtPIu63KLo"
      }
    },
    {
      "cell_type": "code",
      "source": [
        "# Input: 4-digit number\n",
        "x = int(input(\"Nhập số có 4 chữ số: \"))\n",
        "\n",
        "# Reversing the number\n",
        "reversed_x = int(str(x)[::-1])\n",
        "\n",
        "# Output\n",
        "print(f\"Số đảo của {x} là {reversed_x}\")\n"
      ],
      "metadata": {
        "colab": {
          "base_uri": "https://localhost:8080/"
        },
        "id": "gKSKnOsl3J3E",
        "outputId": "2f266cb1-02c5-4e96-bb61-f912bd6da498"
      },
      "execution_count": null,
      "outputs": [
        {
          "output_type": "stream",
          "name": "stdout",
          "text": [
            "Nhập số có 4 chữ số: 1234\n",
            "Số đảo của 1234 là 4321\n"
          ]
        }
      ]
    },
    {
      "cell_type": "markdown",
      "source": [
        "bài 8"
      ],
      "metadata": {
        "id": "ZlVRXNfK3SIx"
      }
    },
    {
      "cell_type": "code",
      "source": [
        "import math\n",
        "\n",
        "# Input: Angle in degrees\n",
        "degrees = float(input(\"Nhập góc từ độ: \"))\n",
        "\n",
        "# Converting degrees to radians\n",
        "radians = math.radians(degrees)\n",
        "\n",
        "# Output\n",
        "print(f\"{degrees} độ = {radians} radian\")\n"
      ],
      "metadata": {
        "colab": {
          "base_uri": "https://localhost:8080/"
        },
        "id": "Hd5v2eCj3TCz",
        "outputId": "381a295b-87b8-4e52-8da8-397cf6a61091"
      },
      "execution_count": null,
      "outputs": [
        {
          "output_type": "stream",
          "name": "stdout",
          "text": [
            "Nhập góc từ độ: 90\n",
            "90.0 độ = 1.5707963267948966 radian\n"
          ]
        }
      ]
    },
    {
      "cell_type": "markdown",
      "source": [
        "bài 9"
      ],
      "metadata": {
        "id": "R6P0Namr3mVU"
      }
    },
    {
      "cell_type": "code",
      "source": [
        "import math\n",
        "\n",
        "# Input: x\n",
        "x = float(input(\"Nhập vào số thực x: \"))\n",
        "\n",
        "# Calculating y1\n",
        "y1 = 4 * (x**2 + 10 * math.sqrt(x) + 3 * x + 1)\n",
        "\n",
        "# Calculating y2\n",
        "y2 = (math.sin(math.pi * x**2) + math.sqrt(x**2 + 1)) / (math.exp(2 * x) + math.cos(math.pi / (4 * x)))\n",
        "\n",
        "# Output: Print y1 and y2, rounded to 2 decimal places\n",
        "print(f\"y1 = {y1:.2f}\")\n",
        "print(f\"y2 = {y2:.2f}\")\n"
      ],
      "metadata": {
        "colab": {
          "base_uri": "https://localhost:8080/"
        },
        "id": "tFjIWBc-3nJo",
        "outputId": "6c789f71-5edf-49af-d023-9e96527a9266"
      },
      "execution_count": null,
      "outputs": [
        {
          "output_type": "stream",
          "name": "stdout",
          "text": [
            "Nhập vào số thực x: 1\n",
            "y1 = 60.00\n",
            "y2 = 0.17\n"
          ]
        }
      ]
    },
    {
      "cell_type": "markdown",
      "source": [
        "bài 10"
      ],
      "metadata": {
        "id": "gLFY9Rwc38RJ"
      }
    },
    {
      "cell_type": "code",
      "source": [
        "import math\n",
        "\n",
        "# Input: Coordinates of points A and B\n",
        "x1, y1 = map(float, input(\"Nhập vào tọa độ của điểm A (x1, y1): \").split())\n",
        "x2, y2 = map(float, input(\"Nhập vào tọa độ của điểm B (x2, y2): \").split())\n",
        "\n",
        "# Calculating the distance between two points\n",
        "distance = math.sqrt((x2 - x1)**2 + (y2 - y1)**2)\n",
        "\n",
        "# Output: Display the distance\n",
        "print(f\"Khoảng cách giữa A và B là {distance:.2f}\")\n"
      ],
      "metadata": {
        "colab": {
          "base_uri": "https://localhost:8080/",
          "height": 356
        },
        "id": "G7eoGBK738C5",
        "outputId": "8f8f5944-897c-40e4-8b16-eac252b95f95"
      },
      "execution_count": null,
      "outputs": [
        {
          "output_type": "error",
          "ename": "KeyboardInterrupt",
          "evalue": "Interrupted by user",
          "traceback": [
            "\u001b[0;31m---------------------------------------------------------------------------\u001b[0m",
            "\u001b[0;31mKeyboardInterrupt\u001b[0m                         Traceback (most recent call last)",
            "\u001b[0;32m/tmp/ipython-input-1537782870.py\u001b[0m in \u001b[0;36m<cell line: 0>\u001b[0;34m()\u001b[0m\n\u001b[1;32m      2\u001b[0m \u001b[0;34m\u001b[0m\u001b[0m\n\u001b[1;32m      3\u001b[0m \u001b[0;31m# Input: Coordinates of points A and B\u001b[0m\u001b[0;34m\u001b[0m\u001b[0;34m\u001b[0m\u001b[0m\n\u001b[0;32m----> 4\u001b[0;31m \u001b[0mx1\u001b[0m\u001b[0;34m,\u001b[0m \u001b[0my1\u001b[0m \u001b[0;34m=\u001b[0m \u001b[0mmap\u001b[0m\u001b[0;34m(\u001b[0m\u001b[0mfloat\u001b[0m\u001b[0;34m,\u001b[0m \u001b[0minput\u001b[0m\u001b[0;34m(\u001b[0m\u001b[0;34m\"Nhập vào tọa độ của điểm A (x1, y1): \"\u001b[0m\u001b[0;34m)\u001b[0m\u001b[0;34m.\u001b[0m\u001b[0msplit\u001b[0m\u001b[0;34m(\u001b[0m\u001b[0;34m)\u001b[0m\u001b[0;34m)\u001b[0m\u001b[0;34m\u001b[0m\u001b[0;34m\u001b[0m\u001b[0m\n\u001b[0m\u001b[1;32m      5\u001b[0m \u001b[0mx2\u001b[0m\u001b[0;34m,\u001b[0m \u001b[0my2\u001b[0m \u001b[0;34m=\u001b[0m \u001b[0mmap\u001b[0m\u001b[0;34m(\u001b[0m\u001b[0mfloat\u001b[0m\u001b[0;34m,\u001b[0m \u001b[0minput\u001b[0m\u001b[0;34m(\u001b[0m\u001b[0;34m\"Nhập vào tọa độ của điểm B (x2, y2): \"\u001b[0m\u001b[0;34m)\u001b[0m\u001b[0;34m.\u001b[0m\u001b[0msplit\u001b[0m\u001b[0;34m(\u001b[0m\u001b[0;34m)\u001b[0m\u001b[0;34m)\u001b[0m\u001b[0;34m\u001b[0m\u001b[0;34m\u001b[0m\u001b[0m\n\u001b[1;32m      6\u001b[0m \u001b[0;34m\u001b[0m\u001b[0m\n",
            "\u001b[0;32m/usr/local/lib/python3.12/dist-packages/ipykernel/kernelbase.py\u001b[0m in \u001b[0;36mraw_input\u001b[0;34m(self, prompt)\u001b[0m\n\u001b[1;32m   1175\u001b[0m                 \u001b[0;34m\"raw_input was called, but this frontend does not support input requests.\"\u001b[0m\u001b[0;34m\u001b[0m\u001b[0;34m\u001b[0m\u001b[0m\n\u001b[1;32m   1176\u001b[0m             )\n\u001b[0;32m-> 1177\u001b[0;31m         return self._input_request(\n\u001b[0m\u001b[1;32m   1178\u001b[0m             \u001b[0mstr\u001b[0m\u001b[0;34m(\u001b[0m\u001b[0mprompt\u001b[0m\u001b[0;34m)\u001b[0m\u001b[0;34m,\u001b[0m\u001b[0;34m\u001b[0m\u001b[0;34m\u001b[0m\u001b[0m\n\u001b[1;32m   1179\u001b[0m             \u001b[0mself\u001b[0m\u001b[0;34m.\u001b[0m\u001b[0m_parent_ident\u001b[0m\u001b[0;34m[\u001b[0m\u001b[0;34m\"shell\"\u001b[0m\u001b[0;34m]\u001b[0m\u001b[0;34m,\u001b[0m\u001b[0;34m\u001b[0m\u001b[0;34m\u001b[0m\u001b[0m\n",
            "\u001b[0;32m/usr/local/lib/python3.12/dist-packages/ipykernel/kernelbase.py\u001b[0m in \u001b[0;36m_input_request\u001b[0;34m(self, prompt, ident, parent, password)\u001b[0m\n\u001b[1;32m   1217\u001b[0m             \u001b[0;32mexcept\u001b[0m \u001b[0mKeyboardInterrupt\u001b[0m\u001b[0;34m:\u001b[0m\u001b[0;34m\u001b[0m\u001b[0;34m\u001b[0m\u001b[0m\n\u001b[1;32m   1218\u001b[0m                 \u001b[0;31m# re-raise KeyboardInterrupt, to truncate traceback\u001b[0m\u001b[0;34m\u001b[0m\u001b[0;34m\u001b[0m\u001b[0m\n\u001b[0;32m-> 1219\u001b[0;31m                 \u001b[0;32mraise\u001b[0m \u001b[0mKeyboardInterrupt\u001b[0m\u001b[0;34m(\u001b[0m\u001b[0;34m\"Interrupted by user\"\u001b[0m\u001b[0;34m)\u001b[0m \u001b[0;32mfrom\u001b[0m \u001b[0;32mNone\u001b[0m\u001b[0;34m\u001b[0m\u001b[0;34m\u001b[0m\u001b[0m\n\u001b[0m\u001b[1;32m   1220\u001b[0m             \u001b[0;32mexcept\u001b[0m \u001b[0mException\u001b[0m\u001b[0;34m:\u001b[0m\u001b[0;34m\u001b[0m\u001b[0;34m\u001b[0m\u001b[0m\n\u001b[1;32m   1221\u001b[0m                 \u001b[0mself\u001b[0m\u001b[0;34m.\u001b[0m\u001b[0mlog\u001b[0m\u001b[0;34m.\u001b[0m\u001b[0mwarning\u001b[0m\u001b[0;34m(\u001b[0m\u001b[0;34m\"Invalid Message:\"\u001b[0m\u001b[0;34m,\u001b[0m \u001b[0mexc_info\u001b[0m\u001b[0;34m=\u001b[0m\u001b[0;32mTrue\u001b[0m\u001b[0;34m)\u001b[0m\u001b[0;34m\u001b[0m\u001b[0;34m\u001b[0m\u001b[0m\n",
            "\u001b[0;31mKeyboardInterrupt\u001b[0m: Interrupted by user"
          ]
        }
      ]
    },
    {
      "cell_type": "markdown",
      "source": [
        "# Bài tập thêm"
      ],
      "metadata": {
        "id": "Zp0hwGB24NjL"
      }
    },
    {
      "cell_type": "markdown",
      "source": [
        "Bài 1"
      ],
      "metadata": {
        "id": "hOEeQ9Fc4Sim"
      }
    },
    {
      "cell_type": "code",
      "source": [
        "# Input: 5 values\n",
        "a, b, c, d, e = map(int, input(\"Nhập 5 số a, b, c, d, e: \").split())\n",
        "\n",
        "# Finding the maximum and minimum values\n",
        "max_value = max(a, b, c, d, e)\n",
        "min_value = min(a, b, c, d, e)\n",
        "\n",
        "# Output: Print the results\n",
        "print(f\"Giá trị lớn nhất: {max_value}\")\n",
        "print(f\"Giá trị nhỏ nhất: {min_value}\")\n"
      ],
      "metadata": {
        "id": "T9VDfBBM4Rpg"
      },
      "execution_count": null,
      "outputs": []
    },
    {
      "cell_type": "markdown",
      "source": [
        "bài 2"
      ],
      "metadata": {
        "id": "mGdBeNlh4gBU"
      }
    },
    {
      "cell_type": "code",
      "source": [
        "import math\n",
        "\n",
        "# Input: a, b, c coefficients\n",
        "a, b, c = map(float, input(\"Nhập a, b, c của phương trình bậc 2: \").split())\n",
        "\n",
        "# Calculate discriminant\n",
        "delta = b**2 - 4 * a * c\n",
        "\n",
        "# Solving quadratic equation\n",
        "if delta > 0:\n",
        "    x1 = (-b + math.sqrt(delta)) / (2 * a)\n",
        "    x2 = (-b - math.sqrt(delta)) / (2 * a)\n",
        "    print(f\"x1 = {x1:.2f}, x2 = {x2:.2f}\")\n",
        "elif delta == 0:\n",
        "    x1 = -b / (2 * a)\n",
        "    print(f\"x1 = {x1:.2f}\")\n",
        "else:\n",
        "    print(\"No solution\")\n"
      ],
      "metadata": {
        "id": "bIMbHAUE4fy0"
      },
      "execution_count": null,
      "outputs": []
    },
    {
      "cell_type": "markdown",
      "source": [
        "bài 3"
      ],
      "metadata": {
        "id": "IMQ24U-34nfz"
      }
    },
    {
      "cell_type": "code",
      "source": [
        "# Input: month and year\n",
        "month, year = map(int, input(\"Nhập tháng và năm: \").split())\n",
        "\n",
        "# Checking the number of days based on the month and year\n",
        "if month == 1 or month == 3 or month == 5 or month == 7 or month == 8 or month == 10 or month == 12:\n",
        "    print(\"31\")\n",
        "elif month == 4 or month == 6 or month == 9 or month == 11:\n",
        "    print(\"30\")\n",
        "elif month == 2:\n",
        "    if (year % 4 == 0 and year % 100 != 0) or (year % 400 == 0):\n",
        "        print(\"29\")  # Leap year\n",
        "    else:\n",
        "        print(\"28\")\n",
        "else:\n",
        "    print(\"Invalid month\")\n"
      ],
      "metadata": {
        "id": "UM_UdLm14i2C"
      },
      "execution_count": null,
      "outputs": []
    },
    {
      "cell_type": "markdown",
      "source": [
        "Bài 4"
      ],
      "metadata": {
        "id": "ES2SRpAc4iqe"
      }
    },
    {
      "cell_type": "code",
      "source": [
        "# Input: n (a number with 4 digits)\n",
        "n = input(\"Nhập số tự nhiên n có 4 chữ số: \")\n",
        "\n",
        "# Finding the largest digit\n",
        "max_digit = max(n)\n",
        "\n",
        "# Output: Print the largest digit\n",
        "print(f\"Chữ số lớn nhất của {n} là {max_digit}\")\n"
      ],
      "metadata": {
        "id": "u2roPOI94rLh"
      },
      "execution_count": null,
      "outputs": []
    },
    {
      "cell_type": "markdown",
      "source": [
        "bài 5"
      ],
      "metadata": {
        "id": "LPz3LzyL4s7B"
      }
    },
    {
      "cell_type": "code",
      "source": [
        "# Input: scores for Math, Physics, and Chemistry\n",
        "math_score = float(input(\"Nhập điểm Toán: \"))\n",
        "phy_score = float(input(\"Nhập điểm Lý: \"))\n",
        "chem_score = float(input(\"Nhập điểm Hóa: \"))\n",
        "\n",
        "# Calculating average point\n",
        "average = (math_score + 2 * phy_score + 3 * chem_score) / 6\n",
        "\n",
        "# Determining the rating\n",
        "if average >= 8:\n",
        "    rating = \"Giỏi\"\n",
        "elif average >= 5:\n",
        "    rating = \"Trung bình\"\n",
        "else:\n",
        "    rating = \"Yếu\"\n",
        "\n",
        "# Output: Print the average and rating\n",
        "print(f\"Điểm trung bình: {average:.2f}, xếp loại {rating}\")\n"
      ],
      "metadata": {
        "id": "X0oCJWKR4tvT"
      },
      "execution_count": null,
      "outputs": []
    },
    {
      "cell_type": "markdown",
      "source": [
        "bài 6"
      ],
      "metadata": {
        "id": "oiUZKEPu4yqm"
      }
    },
    {
      "cell_type": "code",
      "source": [
        "def water_payment(m3):\n",
        "    if m3 <= 4:\n",
        "        return m3 * 4.400  # for the first 4m3\n",
        "    elif m3 <= 6:\n",
        "        return 4 * 4.400 + (m3 - 4) * 8.300  # next 2m3\n",
        "    else:\n",
        "        return 4 * 4.400 + 2 * 8.300 + (m3 - 6) * 10.500  # for more than 6m3\n",
        "\n",
        "# Input: amount of water used\n",
        "m3_used = float(input(\"Nhập số m3 nước sử dụng: \"))\n",
        "payment = water_payment(m3_used)\n",
        "\n",
        "# Output: Payment for the month\n",
        "print(f\"Payment for {m3_used} m3 in month is {payment:.2f} Đ.\")\n"
      ],
      "metadata": {
        "id": "6WHuyRtM40fo"
      },
      "execution_count": null,
      "outputs": []
    },
    {
      "cell_type": "markdown",
      "source": [
        "bài 7"
      ],
      "metadata": {
        "id": "x9B2LWzh40tt"
      }
    },
    {
      "cell_type": "code",
      "source": [
        "from datetime import datetime, timedelta\n",
        "\n",
        "# Input: day, month, and year\n",
        "day, month, year = map(int, input(\"Nhập vào ngày, tháng, năm: \").split())\n",
        "\n",
        "# Creating a date object\n",
        "current_date = datetime(year, month, day)\n",
        "\n",
        "# Getting the next day\n",
        "next_day = current_date + timedelta(days=1)\n",
        "\n",
        "# Output: Next day\n",
        "print(\"Ngày sau là:\", next_day.strftime(\"%d/%m/%Y\"))\n"
      ],
      "metadata": {
        "id": "1QJolox541iG"
      },
      "execution_count": null,
      "outputs": []
    },
    {
      "cell_type": "markdown",
      "source": [
        "bài 8"
      ],
      "metadata": {
        "id": "9lTbxMUX42Ip"
      }
    },
    {
      "cell_type": "code",
      "source": [
        "# Input: a number n\n",
        "n = input(\"Nhập số tự nhiên n: \")\n",
        "\n",
        "# (a) Number of digits\n",
        "num_digits = len(n)\n",
        "\n",
        "# (b) Sum of digits\n",
        "sum_digits = sum(int(digit) for digit in n)\n",
        "\n",
        "# (c) Last digit\n",
        "last_digit = n[-1]\n",
        "\n",
        "# (d) First digit\n",
        "first_digit = n[0]\n",
        "\n",
        "# Output\n",
        "print(f\"{n} has {num_digits} digits.\")\n",
        "print(f\"Sum of digits is {sum_digits}.\")\n",
        "print(f\"Last digit is {last_digit}.\")\n",
        "print(f\"First digit is {first_digit}.\")\n"
      ],
      "metadata": {
        "id": "E8n1fW7A42-k"
      },
      "execution_count": null,
      "outputs": []
    }
  ]
}